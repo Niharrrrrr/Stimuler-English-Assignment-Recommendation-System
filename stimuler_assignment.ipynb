{
  "nbformat": 4,
  "nbformat_minor": 0,
  "metadata": {
    "colab": {
      "provenance": [],
      "gpuType": "T4"
    },
    "kernelspec": {
      "name": "python3",
      "display_name": "Python 3"
    },
    "language_info": {
      "name": "python"
    }
  },
  "cells": [
    {
      "cell_type": "markdown",
      "source": [
        "## STIMULER ASSIGNMENT - NIHAR MITTAL\n"
      ],
      "metadata": {
        "id": "yxRbu6cIeYXw"
      }
    },
    {
      "cell_type": "code",
      "source": [
        "!pip install pandas numpy scikit-learn"
      ],
      "metadata": {
        "colab": {
          "base_uri": "https://localhost:8080/"
        },
        "id": "7GcM2A8YejlJ",
        "outputId": "ff6abf4b-dfbb-440a-9aa3-d1faebe11e73"
      },
      "execution_count": 20,
      "outputs": [
        {
          "output_type": "stream",
          "name": "stdout",
          "text": [
            "Requirement already satisfied: pandas in /usr/local/lib/python3.10/dist-packages (2.2.2)\n",
            "Requirement already satisfied: numpy in /usr/local/lib/python3.10/dist-packages (1.26.4)\n",
            "Requirement already satisfied: scikit-learn in /usr/local/lib/python3.10/dist-packages (1.5.2)\n",
            "Requirement already satisfied: python-dateutil>=2.8.2 in /usr/local/lib/python3.10/dist-packages (from pandas) (2.8.2)\n",
            "Requirement already satisfied: pytz>=2020.1 in /usr/local/lib/python3.10/dist-packages (from pandas) (2024.2)\n",
            "Requirement already satisfied: tzdata>=2022.7 in /usr/local/lib/python3.10/dist-packages (from pandas) (2024.2)\n",
            "Requirement already satisfied: scipy>=1.6.0 in /usr/local/lib/python3.10/dist-packages (from scikit-learn) (1.13.1)\n",
            "Requirement already satisfied: joblib>=1.2.0 in /usr/local/lib/python3.10/dist-packages (from scikit-learn) (1.4.2)\n",
            "Requirement already satisfied: threadpoolctl>=3.1.0 in /usr/local/lib/python3.10/dist-packages (from scikit-learn) (3.5.0)\n",
            "Requirement already satisfied: six>=1.5 in /usr/local/lib/python3.10/dist-packages (from python-dateutil>=2.8.2->pandas) (1.16.0)\n"
          ]
        }
      ]
    },
    {
      "cell_type": "markdown",
      "source": [
        "## Approach 1: Creating a recommendation system for multiple users."
      ],
      "metadata": {
        "id": "V-lJXERZGjal"
      }
    },
    {
      "cell_type": "markdown",
      "source": [
        "## Import Libraries and Dependencies\n",
        "\n",
        "This block imports essential libraries for data handling, preprocessing, machine learning model training, and evaluation."
      ],
      "metadata": {
        "id": "xQCqRT_JcgB8"
      }
    },
    {
      "cell_type": "code",
      "source": [
        "import numpy as np\n",
        "import pandas as pd\n",
        "from sklearn.preprocessing import OneHotEncoder, LabelEncoder, StandardScaler\n",
        "from sklearn.model_selection import train_test_split\n",
        "from sklearn.ensemble import RandomForestClassifier\n",
        "from sklearn.metrics import accuracy_score, classification_report\n",
        "from sklearn.multioutput import MultiOutputClassifier\n",
        "from sklearn.cluster import KMeans\n",
        "from sklearn.metrics import precision_score, recall_score, f1_score\n",
        "from collections import defaultdict\n"
      ],
      "metadata": {
        "id": "6UG8xkGCO1wt"
      },
      "execution_count": 21,
      "outputs": []
    },
    {
      "cell_type": "markdown",
      "source": [
        "## Generate Sample Data for Users\n",
        "\n",
        "This section creates a simulated dataset for 10 users, with features such as country, age band, proficiency levels, errors, and scores in different language categories."
      ],
      "metadata": {
        "id": "Org2Nkc7cqrt"
      }
    },
    {
      "cell_type": "code",
      "execution_count": 22,
      "metadata": {
        "id": "aH2v1wUsZaOc"
      },
      "outputs": [],
      "source": [
        "data = {\n",
        "    'User_ID': [f'user_{i+1}' for i in range(10)],\n",
        "    'Country': np.random.choice(['India', 'Japan', 'USA', 'Brazil', 'Germany'], 10),\n",
        "    'Age_Band': np.random.choice(['Teen', 'Young Adult', 'Adult', 'Senior'], 10),\n",
        "    'English_Proficiency_Level': np.random.choice(['Beginner', 'Intermediate', 'Advanced'], 10),\n",
        "    'Grammar_Errors': np.random.randint(0, 10, 10),\n",
        "    'Vocabulary_Errors': np.random.randint(0, 10, 10),\n",
        "    'Pronunciation_Errors': np.random.randint(0, 10, 10),\n",
        "    'Fluency_Errors': np.random.randint(0, 10, 10),\n",
        "    'Grammar_Score': np.random.randint(50, 100, 10),\n",
        "    'Vocabulary_Score': np.random.randint(50, 100, 10),\n",
        "    'Pronunciation_Score': np.random.randint(50, 100, 10),\n",
        "    'Fluency_Score': np.random.randint(50, 100, 10),\n",
        "    'Exercises_Shown': np.random.choice(['Grammar', 'Vocabulary', 'Pronunciation', 'Fluency'], 10)\n",
        "}\n",
        "df = pd.DataFrame(data)\n"
      ]
    },
    {
      "cell_type": "markdown",
      "source": [
        "## Encoding Categorical Features\n",
        "\n",
        "This block encodes categorical variables (Country, Age_Band, and English_Proficiency_Level) using LabelEncoder to convert them into numerical values suitable for machine learning algorithms."
      ],
      "metadata": {
        "id": "_BnVK-cTcyDJ"
      }
    },
    {
      "cell_type": "code",
      "source": [
        "label_enc = LabelEncoder()\n",
        "df['Country'] = label_enc.fit_transform(df['Country'])\n",
        "df['Age_Band'] = label_enc.fit_transform(df['Age_Band'])\n",
        "df['English_Proficiency_Level'] = label_enc.fit_transform(df['English_Proficiency_Level'])\n"
      ],
      "metadata": {
        "id": "nnJOpX7BsfPS"
      },
      "execution_count": 23,
      "outputs": []
    },
    {
      "cell_type": "markdown",
      "source": [
        "## Preprocessing Features (One-Hot Encoding and Scaling)\n",
        "\n",
        "The OneHotEncoder is applied to categorical features, and numerical score features are scaled using StandardScaler. All preprocessed features are combined into a single feature matrix X."
      ],
      "metadata": {
        "id": "qRCOsbZtc2nS"
      }
    },
    {
      "cell_type": "code",
      "source": [
        "onehot_enc = OneHotEncoder()\n",
        "categorical_features = ['Country', 'Age_Band']\n",
        "encoded_features = onehot_enc.fit_transform(df[categorical_features]).toarray()\n",
        "\n",
        "scaler = StandardScaler()\n",
        "score_features = ['Grammar_Score', 'Vocabulary_Score', 'Pronunciation_Score', 'Fluency_Score']\n",
        "scaled_scores = scaler.fit_transform(df[score_features])\n",
        "\n",
        "X = np.hstack([encoded_features, scaled_scores, df[['Grammar_Errors', 'Vocabulary_Errors', 'Pronunciation_Errors', 'Fluency_Errors']].values])\n"
      ],
      "metadata": {
        "id": "G8Pp00_xsf68"
      },
      "execution_count": 24,
      "outputs": []
    },
    {
      "cell_type": "markdown",
      "source": [
        "## Define Target Variable and Train-test Split for Training.\n",
        "\n",
        "The target variable y is defined by identifying the language category with the most errors for each user (Grammar_Errors, Vocabulary_Errors, etc.).\n",
        "\n",
        "This section splits the data into training and testing sets (70-30 split) using the train_test_split function."
      ],
      "metadata": {
        "id": "YLiRs_uQdAgL"
      }
    },
    {
      "cell_type": "code",
      "source": [
        "df['max_error_category'] = df[['Grammar_Errors', 'Vocabulary_Errors', 'Pronunciation_Errors', 'Fluency_Errors']].idxmax(axis=1)\n",
        "y = df['max_error_category']\n",
        "\n",
        "X_train, X_test, y_train, y_test = train_test_split(X, y, test_size=0.3, random_state=42)\n",
        "model = RandomForestClassifier(n_estimators=100, random_state=42)\n",
        "model.fit(X_train, y_train)\n",
        "\n"
      ],
      "metadata": {
        "id": "wkhGAMbZsjwz",
        "colab": {
          "base_uri": "https://localhost:8080/",
          "height": 80
        },
        "outputId": "e99c807e-00fa-42ce-f5b2-33c4baf7760c"
      },
      "execution_count": 25,
      "outputs": [
        {
          "output_type": "execute_result",
          "data": {
            "text/plain": [
              "RandomForestClassifier(random_state=42)"
            ],
            "text/html": [
              "<style>#sk-container-id-2 {\n",
              "  /* Definition of color scheme common for light and dark mode */\n",
              "  --sklearn-color-text: black;\n",
              "  --sklearn-color-line: gray;\n",
              "  /* Definition of color scheme for unfitted estimators */\n",
              "  --sklearn-color-unfitted-level-0: #fff5e6;\n",
              "  --sklearn-color-unfitted-level-1: #f6e4d2;\n",
              "  --sklearn-color-unfitted-level-2: #ffe0b3;\n",
              "  --sklearn-color-unfitted-level-3: chocolate;\n",
              "  /* Definition of color scheme for fitted estimators */\n",
              "  --sklearn-color-fitted-level-0: #f0f8ff;\n",
              "  --sklearn-color-fitted-level-1: #d4ebff;\n",
              "  --sklearn-color-fitted-level-2: #b3dbfd;\n",
              "  --sklearn-color-fitted-level-3: cornflowerblue;\n",
              "\n",
              "  /* Specific color for light theme */\n",
              "  --sklearn-color-text-on-default-background: var(--sg-text-color, var(--theme-code-foreground, var(--jp-content-font-color1, black)));\n",
              "  --sklearn-color-background: var(--sg-background-color, var(--theme-background, var(--jp-layout-color0, white)));\n",
              "  --sklearn-color-border-box: var(--sg-text-color, var(--theme-code-foreground, var(--jp-content-font-color1, black)));\n",
              "  --sklearn-color-icon: #696969;\n",
              "\n",
              "  @media (prefers-color-scheme: dark) {\n",
              "    /* Redefinition of color scheme for dark theme */\n",
              "    --sklearn-color-text-on-default-background: var(--sg-text-color, var(--theme-code-foreground, var(--jp-content-font-color1, white)));\n",
              "    --sklearn-color-background: var(--sg-background-color, var(--theme-background, var(--jp-layout-color0, #111)));\n",
              "    --sklearn-color-border-box: var(--sg-text-color, var(--theme-code-foreground, var(--jp-content-font-color1, white)));\n",
              "    --sklearn-color-icon: #878787;\n",
              "  }\n",
              "}\n",
              "\n",
              "#sk-container-id-2 {\n",
              "  color: var(--sklearn-color-text);\n",
              "}\n",
              "\n",
              "#sk-container-id-2 pre {\n",
              "  padding: 0;\n",
              "}\n",
              "\n",
              "#sk-container-id-2 input.sk-hidden--visually {\n",
              "  border: 0;\n",
              "  clip: rect(1px 1px 1px 1px);\n",
              "  clip: rect(1px, 1px, 1px, 1px);\n",
              "  height: 1px;\n",
              "  margin: -1px;\n",
              "  overflow: hidden;\n",
              "  padding: 0;\n",
              "  position: absolute;\n",
              "  width: 1px;\n",
              "}\n",
              "\n",
              "#sk-container-id-2 div.sk-dashed-wrapped {\n",
              "  border: 1px dashed var(--sklearn-color-line);\n",
              "  margin: 0 0.4em 0.5em 0.4em;\n",
              "  box-sizing: border-box;\n",
              "  padding-bottom: 0.4em;\n",
              "  background-color: var(--sklearn-color-background);\n",
              "}\n",
              "\n",
              "#sk-container-id-2 div.sk-container {\n",
              "  /* jupyter's `normalize.less` sets `[hidden] { display: none; }`\n",
              "     but bootstrap.min.css set `[hidden] { display: none !important; }`\n",
              "     so we also need the `!important` here to be able to override the\n",
              "     default hidden behavior on the sphinx rendered scikit-learn.org.\n",
              "     See: https://github.com/scikit-learn/scikit-learn/issues/21755 */\n",
              "  display: inline-block !important;\n",
              "  position: relative;\n",
              "}\n",
              "\n",
              "#sk-container-id-2 div.sk-text-repr-fallback {\n",
              "  display: none;\n",
              "}\n",
              "\n",
              "div.sk-parallel-item,\n",
              "div.sk-serial,\n",
              "div.sk-item {\n",
              "  /* draw centered vertical line to link estimators */\n",
              "  background-image: linear-gradient(var(--sklearn-color-text-on-default-background), var(--sklearn-color-text-on-default-background));\n",
              "  background-size: 2px 100%;\n",
              "  background-repeat: no-repeat;\n",
              "  background-position: center center;\n",
              "}\n",
              "\n",
              "/* Parallel-specific style estimator block */\n",
              "\n",
              "#sk-container-id-2 div.sk-parallel-item::after {\n",
              "  content: \"\";\n",
              "  width: 100%;\n",
              "  border-bottom: 2px solid var(--sklearn-color-text-on-default-background);\n",
              "  flex-grow: 1;\n",
              "}\n",
              "\n",
              "#sk-container-id-2 div.sk-parallel {\n",
              "  display: flex;\n",
              "  align-items: stretch;\n",
              "  justify-content: center;\n",
              "  background-color: var(--sklearn-color-background);\n",
              "  position: relative;\n",
              "}\n",
              "\n",
              "#sk-container-id-2 div.sk-parallel-item {\n",
              "  display: flex;\n",
              "  flex-direction: column;\n",
              "}\n",
              "\n",
              "#sk-container-id-2 div.sk-parallel-item:first-child::after {\n",
              "  align-self: flex-end;\n",
              "  width: 50%;\n",
              "}\n",
              "\n",
              "#sk-container-id-2 div.sk-parallel-item:last-child::after {\n",
              "  align-self: flex-start;\n",
              "  width: 50%;\n",
              "}\n",
              "\n",
              "#sk-container-id-2 div.sk-parallel-item:only-child::after {\n",
              "  width: 0;\n",
              "}\n",
              "\n",
              "/* Serial-specific style estimator block */\n",
              "\n",
              "#sk-container-id-2 div.sk-serial {\n",
              "  display: flex;\n",
              "  flex-direction: column;\n",
              "  align-items: center;\n",
              "  background-color: var(--sklearn-color-background);\n",
              "  padding-right: 1em;\n",
              "  padding-left: 1em;\n",
              "}\n",
              "\n",
              "\n",
              "/* Toggleable style: style used for estimator/Pipeline/ColumnTransformer box that is\n",
              "clickable and can be expanded/collapsed.\n",
              "- Pipeline and ColumnTransformer use this feature and define the default style\n",
              "- Estimators will overwrite some part of the style using the `sk-estimator` class\n",
              "*/\n",
              "\n",
              "/* Pipeline and ColumnTransformer style (default) */\n",
              "\n",
              "#sk-container-id-2 div.sk-toggleable {\n",
              "  /* Default theme specific background. It is overwritten whether we have a\n",
              "  specific estimator or a Pipeline/ColumnTransformer */\n",
              "  background-color: var(--sklearn-color-background);\n",
              "}\n",
              "\n",
              "/* Toggleable label */\n",
              "#sk-container-id-2 label.sk-toggleable__label {\n",
              "  cursor: pointer;\n",
              "  display: block;\n",
              "  width: 100%;\n",
              "  margin-bottom: 0;\n",
              "  padding: 0.5em;\n",
              "  box-sizing: border-box;\n",
              "  text-align: center;\n",
              "}\n",
              "\n",
              "#sk-container-id-2 label.sk-toggleable__label-arrow:before {\n",
              "  /* Arrow on the left of the label */\n",
              "  content: \"▸\";\n",
              "  float: left;\n",
              "  margin-right: 0.25em;\n",
              "  color: var(--sklearn-color-icon);\n",
              "}\n",
              "\n",
              "#sk-container-id-2 label.sk-toggleable__label-arrow:hover:before {\n",
              "  color: var(--sklearn-color-text);\n",
              "}\n",
              "\n",
              "/* Toggleable content - dropdown */\n",
              "\n",
              "#sk-container-id-2 div.sk-toggleable__content {\n",
              "  max-height: 0;\n",
              "  max-width: 0;\n",
              "  overflow: hidden;\n",
              "  text-align: left;\n",
              "  /* unfitted */\n",
              "  background-color: var(--sklearn-color-unfitted-level-0);\n",
              "}\n",
              "\n",
              "#sk-container-id-2 div.sk-toggleable__content.fitted {\n",
              "  /* fitted */\n",
              "  background-color: var(--sklearn-color-fitted-level-0);\n",
              "}\n",
              "\n",
              "#sk-container-id-2 div.sk-toggleable__content pre {\n",
              "  margin: 0.2em;\n",
              "  border-radius: 0.25em;\n",
              "  color: var(--sklearn-color-text);\n",
              "  /* unfitted */\n",
              "  background-color: var(--sklearn-color-unfitted-level-0);\n",
              "}\n",
              "\n",
              "#sk-container-id-2 div.sk-toggleable__content.fitted pre {\n",
              "  /* unfitted */\n",
              "  background-color: var(--sklearn-color-fitted-level-0);\n",
              "}\n",
              "\n",
              "#sk-container-id-2 input.sk-toggleable__control:checked~div.sk-toggleable__content {\n",
              "  /* Expand drop-down */\n",
              "  max-height: 200px;\n",
              "  max-width: 100%;\n",
              "  overflow: auto;\n",
              "}\n",
              "\n",
              "#sk-container-id-2 input.sk-toggleable__control:checked~label.sk-toggleable__label-arrow:before {\n",
              "  content: \"▾\";\n",
              "}\n",
              "\n",
              "/* Pipeline/ColumnTransformer-specific style */\n",
              "\n",
              "#sk-container-id-2 div.sk-label input.sk-toggleable__control:checked~label.sk-toggleable__label {\n",
              "  color: var(--sklearn-color-text);\n",
              "  background-color: var(--sklearn-color-unfitted-level-2);\n",
              "}\n",
              "\n",
              "#sk-container-id-2 div.sk-label.fitted input.sk-toggleable__control:checked~label.sk-toggleable__label {\n",
              "  background-color: var(--sklearn-color-fitted-level-2);\n",
              "}\n",
              "\n",
              "/* Estimator-specific style */\n",
              "\n",
              "/* Colorize estimator box */\n",
              "#sk-container-id-2 div.sk-estimator input.sk-toggleable__control:checked~label.sk-toggleable__label {\n",
              "  /* unfitted */\n",
              "  background-color: var(--sklearn-color-unfitted-level-2);\n",
              "}\n",
              "\n",
              "#sk-container-id-2 div.sk-estimator.fitted input.sk-toggleable__control:checked~label.sk-toggleable__label {\n",
              "  /* fitted */\n",
              "  background-color: var(--sklearn-color-fitted-level-2);\n",
              "}\n",
              "\n",
              "#sk-container-id-2 div.sk-label label.sk-toggleable__label,\n",
              "#sk-container-id-2 div.sk-label label {\n",
              "  /* The background is the default theme color */\n",
              "  color: var(--sklearn-color-text-on-default-background);\n",
              "}\n",
              "\n",
              "/* On hover, darken the color of the background */\n",
              "#sk-container-id-2 div.sk-label:hover label.sk-toggleable__label {\n",
              "  color: var(--sklearn-color-text);\n",
              "  background-color: var(--sklearn-color-unfitted-level-2);\n",
              "}\n",
              "\n",
              "/* Label box, darken color on hover, fitted */\n",
              "#sk-container-id-2 div.sk-label.fitted:hover label.sk-toggleable__label.fitted {\n",
              "  color: var(--sklearn-color-text);\n",
              "  background-color: var(--sklearn-color-fitted-level-2);\n",
              "}\n",
              "\n",
              "/* Estimator label */\n",
              "\n",
              "#sk-container-id-2 div.sk-label label {\n",
              "  font-family: monospace;\n",
              "  font-weight: bold;\n",
              "  display: inline-block;\n",
              "  line-height: 1.2em;\n",
              "}\n",
              "\n",
              "#sk-container-id-2 div.sk-label-container {\n",
              "  text-align: center;\n",
              "}\n",
              "\n",
              "/* Estimator-specific */\n",
              "#sk-container-id-2 div.sk-estimator {\n",
              "  font-family: monospace;\n",
              "  border: 1px dotted var(--sklearn-color-border-box);\n",
              "  border-radius: 0.25em;\n",
              "  box-sizing: border-box;\n",
              "  margin-bottom: 0.5em;\n",
              "  /* unfitted */\n",
              "  background-color: var(--sklearn-color-unfitted-level-0);\n",
              "}\n",
              "\n",
              "#sk-container-id-2 div.sk-estimator.fitted {\n",
              "  /* fitted */\n",
              "  background-color: var(--sklearn-color-fitted-level-0);\n",
              "}\n",
              "\n",
              "/* on hover */\n",
              "#sk-container-id-2 div.sk-estimator:hover {\n",
              "  /* unfitted */\n",
              "  background-color: var(--sklearn-color-unfitted-level-2);\n",
              "}\n",
              "\n",
              "#sk-container-id-2 div.sk-estimator.fitted:hover {\n",
              "  /* fitted */\n",
              "  background-color: var(--sklearn-color-fitted-level-2);\n",
              "}\n",
              "\n",
              "/* Specification for estimator info (e.g. \"i\" and \"?\") */\n",
              "\n",
              "/* Common style for \"i\" and \"?\" */\n",
              "\n",
              ".sk-estimator-doc-link,\n",
              "a:link.sk-estimator-doc-link,\n",
              "a:visited.sk-estimator-doc-link {\n",
              "  float: right;\n",
              "  font-size: smaller;\n",
              "  line-height: 1em;\n",
              "  font-family: monospace;\n",
              "  background-color: var(--sklearn-color-background);\n",
              "  border-radius: 1em;\n",
              "  height: 1em;\n",
              "  width: 1em;\n",
              "  text-decoration: none !important;\n",
              "  margin-left: 1ex;\n",
              "  /* unfitted */\n",
              "  border: var(--sklearn-color-unfitted-level-1) 1pt solid;\n",
              "  color: var(--sklearn-color-unfitted-level-1);\n",
              "}\n",
              "\n",
              ".sk-estimator-doc-link.fitted,\n",
              "a:link.sk-estimator-doc-link.fitted,\n",
              "a:visited.sk-estimator-doc-link.fitted {\n",
              "  /* fitted */\n",
              "  border: var(--sklearn-color-fitted-level-1) 1pt solid;\n",
              "  color: var(--sklearn-color-fitted-level-1);\n",
              "}\n",
              "\n",
              "/* On hover */\n",
              "div.sk-estimator:hover .sk-estimator-doc-link:hover,\n",
              ".sk-estimator-doc-link:hover,\n",
              "div.sk-label-container:hover .sk-estimator-doc-link:hover,\n",
              ".sk-estimator-doc-link:hover {\n",
              "  /* unfitted */\n",
              "  background-color: var(--sklearn-color-unfitted-level-3);\n",
              "  color: var(--sklearn-color-background);\n",
              "  text-decoration: none;\n",
              "}\n",
              "\n",
              "div.sk-estimator.fitted:hover .sk-estimator-doc-link.fitted:hover,\n",
              ".sk-estimator-doc-link.fitted:hover,\n",
              "div.sk-label-container:hover .sk-estimator-doc-link.fitted:hover,\n",
              ".sk-estimator-doc-link.fitted:hover {\n",
              "  /* fitted */\n",
              "  background-color: var(--sklearn-color-fitted-level-3);\n",
              "  color: var(--sklearn-color-background);\n",
              "  text-decoration: none;\n",
              "}\n",
              "\n",
              "/* Span, style for the box shown on hovering the info icon */\n",
              ".sk-estimator-doc-link span {\n",
              "  display: none;\n",
              "  z-index: 9999;\n",
              "  position: relative;\n",
              "  font-weight: normal;\n",
              "  right: .2ex;\n",
              "  padding: .5ex;\n",
              "  margin: .5ex;\n",
              "  width: min-content;\n",
              "  min-width: 20ex;\n",
              "  max-width: 50ex;\n",
              "  color: var(--sklearn-color-text);\n",
              "  box-shadow: 2pt 2pt 4pt #999;\n",
              "  /* unfitted */\n",
              "  background: var(--sklearn-color-unfitted-level-0);\n",
              "  border: .5pt solid var(--sklearn-color-unfitted-level-3);\n",
              "}\n",
              "\n",
              ".sk-estimator-doc-link.fitted span {\n",
              "  /* fitted */\n",
              "  background: var(--sklearn-color-fitted-level-0);\n",
              "  border: var(--sklearn-color-fitted-level-3);\n",
              "}\n",
              "\n",
              ".sk-estimator-doc-link:hover span {\n",
              "  display: block;\n",
              "}\n",
              "\n",
              "/* \"?\"-specific style due to the `<a>` HTML tag */\n",
              "\n",
              "#sk-container-id-2 a.estimator_doc_link {\n",
              "  float: right;\n",
              "  font-size: 1rem;\n",
              "  line-height: 1em;\n",
              "  font-family: monospace;\n",
              "  background-color: var(--sklearn-color-background);\n",
              "  border-radius: 1rem;\n",
              "  height: 1rem;\n",
              "  width: 1rem;\n",
              "  text-decoration: none;\n",
              "  /* unfitted */\n",
              "  color: var(--sklearn-color-unfitted-level-1);\n",
              "  border: var(--sklearn-color-unfitted-level-1) 1pt solid;\n",
              "}\n",
              "\n",
              "#sk-container-id-2 a.estimator_doc_link.fitted {\n",
              "  /* fitted */\n",
              "  border: var(--sklearn-color-fitted-level-1) 1pt solid;\n",
              "  color: var(--sklearn-color-fitted-level-1);\n",
              "}\n",
              "\n",
              "/* On hover */\n",
              "#sk-container-id-2 a.estimator_doc_link:hover {\n",
              "  /* unfitted */\n",
              "  background-color: var(--sklearn-color-unfitted-level-3);\n",
              "  color: var(--sklearn-color-background);\n",
              "  text-decoration: none;\n",
              "}\n",
              "\n",
              "#sk-container-id-2 a.estimator_doc_link.fitted:hover {\n",
              "  /* fitted */\n",
              "  background-color: var(--sklearn-color-fitted-level-3);\n",
              "}\n",
              "</style><div id=\"sk-container-id-2\" class=\"sk-top-container\"><div class=\"sk-text-repr-fallback\"><pre>RandomForestClassifier(random_state=42)</pre><b>In a Jupyter environment, please rerun this cell to show the HTML representation or trust the notebook. <br />On GitHub, the HTML representation is unable to render, please try loading this page with nbviewer.org.</b></div><div class=\"sk-container\" hidden><div class=\"sk-item\"><div class=\"sk-estimator fitted sk-toggleable\"><input class=\"sk-toggleable__control sk-hidden--visually\" id=\"sk-estimator-id-2\" type=\"checkbox\" checked><label for=\"sk-estimator-id-2\" class=\"sk-toggleable__label fitted sk-toggleable__label-arrow fitted\">&nbsp;&nbsp;RandomForestClassifier<a class=\"sk-estimator-doc-link fitted\" rel=\"noreferrer\" target=\"_blank\" href=\"https://scikit-learn.org/1.5/modules/generated/sklearn.ensemble.RandomForestClassifier.html\">?<span>Documentation for RandomForestClassifier</span></a><span class=\"sk-estimator-doc-link fitted\">i<span>Fitted</span></span></label><div class=\"sk-toggleable__content fitted\"><pre>RandomForestClassifier(random_state=42)</pre></div> </div></div></div></div>"
            ]
          },
          "metadata": {},
          "execution_count": 25
        }
      ]
    },
    {
      "cell_type": "markdown",
      "source": [
        "The model is evaluated by making predictions on the test set. The accuracy_score and a detailed classification_report are printed to assess model performance. The results of this are not conclusive because the data is fake and very less. Also , we can change our algorithm based on the data we have.\n",
        "\n"
      ],
      "metadata": {
        "id": "eDe2CZpedSOa"
      }
    },
    {
      "cell_type": "code",
      "source": [
        "y_pred = model.predict(X_test)\n",
        "print(\"Accuracy:\", accuracy_score(y_test, y_pred))\n",
        "print(\"Classification Report:\\n\", classification_report(y_test, y_pred))\n"
      ],
      "metadata": {
        "colab": {
          "base_uri": "https://localhost:8080/"
        },
        "id": "wIwUxQQhOeOw",
        "outputId": "b06d2227-e0ac-4dfd-93c4-cfc5df1f648a"
      },
      "execution_count": 26,
      "outputs": [
        {
          "output_type": "stream",
          "name": "stdout",
          "text": [
            "Accuracy: 0.0\n",
            "Classification Report:\n",
            "                       precision    recall  f1-score   support\n",
            "\n",
            "      Fluency_Errors       0.00      0.00      0.00       0.0\n",
            "      Grammar_Errors       0.00      0.00      0.00       2.0\n",
            "Pronunciation_Errors       0.00      0.00      0.00       1.0\n",
            "   Vocabulary_Errors       0.00      0.00      0.00       0.0\n",
            "\n",
            "            accuracy                           0.00       3.0\n",
            "           macro avg       0.00      0.00      0.00       3.0\n",
            "        weighted avg       0.00      0.00      0.00       3.0\n",
            "\n"
          ]
        },
        {
          "output_type": "stream",
          "name": "stderr",
          "text": [
            "/usr/local/lib/python3.10/dist-packages/sklearn/metrics/_classification.py:1531: UndefinedMetricWarning: Precision is ill-defined and being set to 0.0 in labels with no predicted samples. Use `zero_division` parameter to control this behavior.\n",
            "  _warn_prf(average, modifier, f\"{metric.capitalize()} is\", len(result))\n",
            "/usr/local/lib/python3.10/dist-packages/sklearn/metrics/_classification.py:1531: UndefinedMetricWarning: Recall is ill-defined and being set to 0.0 in labels with no true samples. Use `zero_division` parameter to control this behavior.\n",
            "  _warn_prf(average, modifier, f\"{metric.capitalize()} is\", len(result))\n",
            "/usr/local/lib/python3.10/dist-packages/sklearn/metrics/_classification.py:1531: UndefinedMetricWarning: Precision is ill-defined and being set to 0.0 in labels with no predicted samples. Use `zero_division` parameter to control this behavior.\n",
            "  _warn_prf(average, modifier, f\"{metric.capitalize()} is\", len(result))\n",
            "/usr/local/lib/python3.10/dist-packages/sklearn/metrics/_classification.py:1531: UndefinedMetricWarning: Recall is ill-defined and being set to 0.0 in labels with no true samples. Use `zero_division` parameter to control this behavior.\n",
            "  _warn_prf(average, modifier, f\"{metric.capitalize()} is\", len(result))\n",
            "/usr/local/lib/python3.10/dist-packages/sklearn/metrics/_classification.py:1531: UndefinedMetricWarning: Precision is ill-defined and being set to 0.0 in labels with no predicted samples. Use `zero_division` parameter to control this behavior.\n",
            "  _warn_prf(average, modifier, f\"{metric.capitalize()} is\", len(result))\n",
            "/usr/local/lib/python3.10/dist-packages/sklearn/metrics/_classification.py:1531: UndefinedMetricWarning: Recall is ill-defined and being set to 0.0 in labels with no true samples. Use `zero_division` parameter to control this behavior.\n",
            "  _warn_prf(average, modifier, f\"{metric.capitalize()} is\", len(result))\n"
          ]
        }
      ]
    },
    {
      "cell_type": "markdown",
      "source": [
        "This function predicts the error category for a specific user by encoding their features and applying the trained RandomForest model."
      ],
      "metadata": {
        "id": "PwXY9LGUdXDw"
      }
    },
    {
      "cell_type": "code",
      "source": [
        "def predict_error_category(user_data):\n",
        "    encoded_user_data = np.hstack([onehot_enc.transform([[user_data['Country'], user_data['Age_Band']]]).toarray(),\n",
        "                                   scaler.transform([[user_data['Grammar_Score'], user_data['Vocabulary_Score'],\n",
        "                                                      user_data['Pronunciation_Score'], user_data['Fluency_Score']]]),\n",
        "                                   np.array([[user_data['Grammar_Errors'], user_data['Vocabulary_Errors'],\n",
        "                                              user_data['Pronunciation_Errors'], user_data['Fluency_Errors']]])])\n",
        "    predicted_category = model.predict(encoded_user_data)[0]\n",
        "    return predicted_category\n"
      ],
      "metadata": {
        "id": "FMstVxG9dU_5"
      },
      "execution_count": 27,
      "outputs": []
    },
    {
      "cell_type": "markdown",
      "source": [
        "## Cold Start: KMeans Clustering for New Users\n",
        "KMeans clustering is applied to handle the cold start scenario for new users who lack historical data. It assigns new users to a cluster based on demographics and proficiency level."
      ],
      "metadata": {
        "id": "xHv9Yx-0dYB-"
      }
    },
    {
      "cell_type": "code",
      "source": [
        "kmeans = KMeans(n_clusters=3, random_state=42).fit(X)\n",
        "\n",
        "def cold_start_recommendation(user_data, onehot_enc, scaler, kmeans):\n",
        "    encoded_user_data = onehot_enc.transform([[user_data['Country'], user_data['Age_Band']]]).toarray()\n",
        "    scaled_user_scores = scaler.transform([[user_data['Grammar_Score'], user_data['Vocabulary_Score'],\n",
        "                                            user_data['Pronunciation_Score'], user_data['Fluency_Score']]])\n",
        "\n",
        "    transformed_user_data = np.hstack([encoded_user_data, scaled_user_scores,\n",
        "                                       np.array([[user_data['Grammar_Errors'], user_data['Vocabulary_Errors'],\n",
        "                                                  user_data['Pronunciation_Errors'], user_data['Fluency_Errors']]])])\n",
        "\n",
        "    cluster = kmeans.predict(transformed_user_data)[0]\n",
        "\n",
        "    if cluster == 0:\n",
        "        return \"Start with basic grammar exercises.\"\n",
        "    elif cluster == 1:\n",
        "        return \"Start with fluency exercises for smoother speech.\"\n",
        "    else:\n",
        "        return \"Start with pronunciation and vocabulary flashcards.\"\n"
      ],
      "metadata": {
        "id": "Nu4Bkz_pdc6q"
      },
      "execution_count": 28,
      "outputs": []
    },
    {
      "cell_type": "markdown",
      "source": [
        "## Generate Personalized Exercises Based on Error Category\n",
        "\n",
        "This function generates personalized exercises based on the error category and user demographics (e.g., using anime references for Japanese users)."
      ],
      "metadata": {
        "id": "Dyfwpqw8dfMJ"
      }
    },
    {
      "cell_type": "code",
      "source": [
        "def generate_exercise(user_data, error_category):\n",
        "    country = user_data['Country']\n",
        "    proficiency_level = user_data['English_Proficiency_Level']\n",
        "\n",
        "    if error_category == 'Grammar_Errors':\n",
        "        if country == 'Japan':\n",
        "            return \"Grammar exercise with Anime references.\"\n",
        "        elif country == 'India':\n",
        "            return \"Grammar exercise with Friends sitcom references.\"\n",
        "        else:\n",
        "            return \"Standard grammar fill-in-the-blanks exercise.\"\n",
        "\n",
        "    elif error_category == 'Vocabulary_Errors':\n",
        "        if proficiency_level == 'Beginner':\n",
        "            return \"Vocabulary flashcards for basic words.\"\n",
        "        else:\n",
        "            return \"Advanced vocabulary in context-based questions.\"\n",
        "\n",
        "    elif error_category == 'Pronunciation_Errors':\n",
        "        return \"Pronunciation exercise with phonetic transcription and audio.\"\n",
        "\n",
        "    elif error_category == 'Fluency_Errors':\n",
        "        return \"Fluency exercise with speed reading and pause detection.\"\n",
        "\n",
        "    return \"General exercise for English practice.\"\n"
      ],
      "metadata": {
        "id": "rs7q31Y7diDx"
      },
      "execution_count": 29,
      "outputs": []
    },
    {
      "cell_type": "markdown",
      "source": [
        "## Main Recommendation Function\n",
        "\n",
        "This function handles both new and existing users. For existing users, it predicts the most common error category based on historical data. For new users, it applies the cold start method using KMeans clustering."
      ],
      "metadata": {
        "id": "GWtPdgfGdkWP"
      }
    },
    {
      "cell_type": "code",
      "source": [
        "def recommend_exercise(user_id, user_data, historical_data, onehot_enc, scaler, kmeans):\n",
        "    if user_id in historical_data['User_ID'].values:\n",
        "        user_historical_data = historical_data[historical_data['User_ID'] == user_id]\n",
        "        predicted_category = predict_error_category(user_historical_data.iloc[0])\n",
        "        return generate_exercise(user_data, predicted_category)\n",
        "    else:\n",
        "        return cold_start_recommendation(user_data, onehot_enc, scaler, kmeans)\n",
        "\n",
        "user_data_example = {\n",
        "    'Country': 0,  # Assuming the user is from 'India' (encoded)\n",
        "    'Age_Band': 2,  # Assuming 'Young Adult'\n",
        "    'English_Proficiency_Level': 0,  # Beginner\n",
        "    'Grammar_Errors': 3,\n",
        "    'Vocabulary_Errors': 2,\n",
        "    'Pronunciation_Errors': 1,\n",
        "    'Fluency_Errors': 4,\n",
        "    'Grammar_Score': 65,\n",
        "    'Vocabulary_Score': 75,\n",
        "    'Pronunciation_Score': 85,\n",
        "    'Fluency_Score': 60\n",
        "}\n",
        "\n",
        "recommendation = recommend_exercise('user_001', user_data_example, df, onehot_enc, scaler, kmeans)\n",
        "print(\"Recommended Exercise:\", recommendation)\n",
        "\n"
      ],
      "metadata": {
        "colab": {
          "base_uri": "https://localhost:8080/"
        },
        "id": "oarDFFxddoJ5",
        "outputId": "c1b25fde-1444-4c7e-a9b5-f4f338de48fb"
      },
      "execution_count": 30,
      "outputs": [
        {
          "output_type": "stream",
          "name": "stdout",
          "text": [
            "Recommended Exercise: Start with pronunciation and vocabulary flashcards.\n"
          ]
        },
        {
          "output_type": "stream",
          "name": "stderr",
          "text": [
            "/usr/local/lib/python3.10/dist-packages/sklearn/base.py:493: UserWarning: X does not have valid feature names, but OneHotEncoder was fitted with feature names\n",
            "  warnings.warn(\n",
            "/usr/local/lib/python3.10/dist-packages/sklearn/base.py:493: UserWarning: X does not have valid feature names, but StandardScaler was fitted with feature names\n",
            "  warnings.warn(\n"
          ]
        }
      ]
    },
    {
      "cell_type": "markdown",
      "source": [
        "## Approach 2: Focussing More on Analysis of one single user."
      ],
      "metadata": {
        "id": "wYSW8tT9GnTZ"
      }
    },
    {
      "cell_type": "markdown",
      "source": [
        "## Import Required Libraries\n",
        "\n",
        "This block imports the necessary libraries for handling the user data, performing operations on historical data, and managing feedback features such as grammar, vocabulary, pronunciation, and fluency."
      ],
      "metadata": {
        "id": "fSgTYN02hANZ"
      }
    },
    {
      "cell_type": "code",
      "source": [
        "import numpy as np\n",
        "import pandas as pd\n",
        "from collections import defaultdict\n"
      ],
      "metadata": {
        "id": "10QwNp-2R2uD"
      },
      "execution_count": 31,
      "outputs": []
    },
    {
      "cell_type": "markdown",
      "source": [
        "## Simulate Historical User Data\n",
        "\n",
        "This block simulates historical data for a single user. The data contains details about the user's interactions with the language learning system, including feedback on grammar, vocabulary, pronunciation, and fluency."
      ],
      "metadata": {
        "id": "BrZoL5aihVBH"
      }
    },
    {
      "cell_type": "code",
      "source": [
        "historical_data = [\n",
        "    {\n",
        "        \"user_id\": \"user123\",\n",
        "        \"timestamp\": \"2024-10-15T08:00:00Z\",\n",
        "        \"utterance\": \"I didn't watch any movie, bro.\",\n",
        "        \"feedback\": {\n",
        "            \"grammar\": {\n",
        "                \"score\": 0.95,\n",
        "                \"errors\": [\n",
        "                    {\"type\": \"article usage\", \"error\": \"any -> a\", \"impact\": 0.5}\n",
        "                ]\n",
        "            },\n",
        "            \"vocabulary\": {\n",
        "                \"score\": 8.5,\n",
        "                \"suggestions\": [\n",
        "                    {\"incorrect_word\": \"bright\", \"correct_word\": \"promising\"}\n",
        "                ]\n",
        "            },\n",
        "            \"pronunciation\": {\n",
        "                \"score\": 91,\n",
        "                \"incorrect_words\": [\n",
        "                    {\"word\": \"important\", \"accuracy\": 56}\n",
        "                ]\n",
        "            },\n",
        "            \"fluency\": {\n",
        "                \"score\": 71,\n",
        "                \"feedback\": {\n",
        "                    \"speed\": \"slow\",\n",
        "                    \"wpm\": 119,\n",
        "                    \"syllables_per_minute\": 217\n",
        "                }\n",
        "            }\n",
        "        }\n",
        "    }\n",
        "]\n"
      ],
      "metadata": {
        "id": "5HakH-1hWWiW"
      },
      "execution_count": 32,
      "outputs": []
    },
    {
      "cell_type": "markdown",
      "source": [
        "## Data Preprocessing and Feature Extraction\n",
        "This block extracts relevant features from the historical data. It computes error frequencies for each feedback category (grammar, vocabulary, etc.) and calculates the average scores for each category. The goal is to create structured data that summarizes user performance across all language aspects."
      ],
      "metadata": {
        "id": "4yC90uJ6hfC0"
      }
    },
    {
      "cell_type": "code",
      "source": [
        "def extract_features(user_data):\n",
        "    categories = [\"grammar\", \"vocabulary\", \"pronunciation\", \"fluency\"]\n",
        "    category_scores = defaultdict(list)\n",
        "    error_frequencies = defaultdict(lambda: defaultdict(int))\n",
        "\n",
        "    for entry in user_data:\n",
        "        for category in categories:\n",
        "            feedback = entry[\"feedback\"].get(category, {})\n",
        "            score = feedback.get(\"score\", None)\n",
        "            if score is not None:\n",
        "                category_scores[category].append(score)\n",
        "\n",
        "            if category == \"grammar\" and \"errors\" in feedback:\n",
        "                for error in feedback[\"errors\"]:\n",
        "                    error_frequencies[\"grammar\"][error[\"type\"]] += 1\n",
        "            elif category == \"vocabulary\" and \"suggestions\" in feedback:\n",
        "                for suggestion in feedback[\"suggestions\"]:\n",
        "                    error_frequencies[\"vocabulary\"][suggestion[\"incorrect_word\"]] += 1\n",
        "            elif category == \"pronunciation\" and \"incorrect_words\" in feedback:\n",
        "                for word in feedback[\"incorrect_words\"]:\n",
        "                    error_frequencies[\"pronunciation\"][word[\"word\"]] += 1\n",
        "\n",
        "    aggregated_features = {\n",
        "        \"category_scores\": {cat: np.mean(scores) for cat, scores in category_scores.items()},\n",
        "        \"error_frequencies\": error_frequencies\n",
        "    }\n",
        "\n",
        "    return aggregated_features\n",
        "\n",
        "user_features = extract_features(historical_data)\n",
        "print(\"Extracted Features:\\n\", user_features)\n"
      ],
      "metadata": {
        "colab": {
          "base_uri": "https://localhost:8080/"
        },
        "id": "NQpUcvp8WYoK",
        "outputId": "69b59ad6-81ac-4282-a9f2-ed3103fbf7c8"
      },
      "execution_count": 33,
      "outputs": [
        {
          "output_type": "stream",
          "name": "stdout",
          "text": [
            "Extracted Features:\n",
            " {'category_scores': {'grammar': 0.95, 'vocabulary': 8.5, 'pronunciation': 91.0, 'fluency': 71.0}, 'error_frequencies': defaultdict(<function extract_features.<locals>.<lambda> at 0x7f4c6c8e23b0>, {'grammar': defaultdict(<class 'int'>, {'article usage': 1}), 'vocabulary': defaultdict(<class 'int'>, {'bright': 1}), 'pronunciation': defaultdict(<class 'int'>, {'important': 1})})}\n"
          ]
        }
      ]
    },
    {
      "cell_type": "markdown",
      "source": [
        "## Selecting the Exercise Category\n",
        "\n",
        "This block selects the category (grammar, vocabulary, pronunciation, or fluency) that should be prioritized for the next exercise. The selection is based on error frequencies and proficiency scores. Categories with higher error counts and lower scores are given more weight."
      ],
      "metadata": {
        "id": "eBBA0YWchj_7"
      }
    },
    {
      "cell_type": "code",
      "source": [
        "def select_exercise_category(features):\n",
        "    weights = {}\n",
        "\n",
        "    for category, score in features[\"category_scores\"].items():\n",
        "        if category in features[\"error_frequencies\"]:\n",
        "            error_count = sum(features[\"error_frequencies\"][category].values())\n",
        "            weights[category] = (1 - score / 100) * error_count\n",
        "\n",
        "    selected_category = max(weights, key=weights.get)\n",
        "\n",
        "    return selected_category, weights\n",
        "\n",
        "selected_category, weights = select_exercise_category(user_features)\n",
        "print(f\"Selected Exercise Category: {selected_category}, Weights: {weights}\")\n"
      ],
      "metadata": {
        "colab": {
          "base_uri": "https://localhost:8080/"
        },
        "id": "jzMmIYHDhnTh",
        "outputId": "aecfbc1b-7844-4d17-b631-f4eb6e154718"
      },
      "execution_count": 34,
      "outputs": [
        {
          "output_type": "stream",
          "name": "stdout",
          "text": [
            "Selected Exercise Category: grammar, Weights: {'grammar': 0.9905, 'vocabulary': 0.915, 'pronunciation': 0.08999999999999997}\n"
          ]
        }
      ]
    },
    {
      "cell_type": "markdown",
      "source": [
        "#Simulating User Demographics and Preferences\n",
        "This block contains demographic information about the user, such as country, age group, and interests (e.g., anime or movies). These preferences will be used to customize the exercises to make them more engaging.\n",
        "\n",
        "This data structure can be expanded and improved. Country , state and more specific location of the user , exact age , interests can be more specific , we can ask that if the person is a student , professional etc. , we can ask what was their native language to get more insights for future users."
      ],
      "metadata": {
        "id": "Z19u59eNho-l"
      }
    },
    {
      "cell_type": "code",
      "source": [
        "user_demographics = {\n",
        "    \"country\": \"Japan\",\n",
        "    \"age_group\": \"18-25\",\n",
        "    \"interests\": [\"anime\", \"movies\"]\n",
        "}\n"
      ],
      "metadata": {
        "id": "wjTv1v8Uhr0l"
      },
      "execution_count": 35,
      "outputs": []
    },
    {
      "cell_type": "markdown",
      "source": [
        "## Generating a Personalized Exercise\n",
        "This block generates a personalized exercise based on the selected category and the user's interests. For example, users interested in anime may receive exercises with anime references, while users interested in movies might receive exercises based on movie dialogues. The content of the exercises is also adjusted based on the user’s common errors."
      ],
      "metadata": {
        "id": "XE4ErerJhth1"
      }
    },
    {
      "cell_type": "code",
      "source": [
        "def generate_exercise(selected_category, user_demographics, user_features):\n",
        "    exercise_content = {}\n",
        "\n",
        "    if selected_category == \"grammar\":\n",
        "        most_common_error = max(user_features[\"error_frequencies\"][\"grammar\"], key=user_features[\"error_frequencies\"][\"grammar\"].get)\n",
        "        exercise_content[\"type\"] = \"fill-in-the-blank\"\n",
        "        exercise_content[\"instruction\"] = f\"Correct the sentence with the proper {most_common_error}\"\n",
        "        exercise_content[\"example\"] = f\"He watched __ movie. (Hint: article usage)\"\n",
        "\n",
        "    elif selected_category == \"pronunciation\":\n",
        "        most_common_word = max(user_features[\"error_frequencies\"][\"pronunciation\"], key=user_features[\"error_frequencies\"][\"pronunciation\"].get)\n",
        "        exercise_content[\"type\"] = \"pronunciation\"\n",
        "        exercise_content[\"instruction\"] = f\"Practice pronouncing the word: {most_common_word}\"\n",
        "        exercise_content[\"audio_clip\"] = f\"audio_{most_common_word}.mp3\"\n",
        "\n",
        "    if \"anime\" in user_demographics[\"interests\"]:\n",
        "        exercise_content[\"context\"] = \"anime\"\n",
        "    elif \"movies\" in user_demographics[\"interests\"]:\n",
        "        exercise_content[\"context\"] = \"movies\"\n",
        "\n",
        "    return exercise_content\n",
        "\n",
        "exercise = generate_exercise(selected_category, user_demographics, user_features)\n",
        "print(\"Generated Exercise:\\n\", exercise)\n"
      ],
      "metadata": {
        "colab": {
          "base_uri": "https://localhost:8080/"
        },
        "id": "YxYBXZBWh2VY",
        "outputId": "88bb3c6c-ed91-43fc-bc78-e193a504ba1b"
      },
      "execution_count": 36,
      "outputs": [
        {
          "output_type": "stream",
          "name": "stdout",
          "text": [
            "Generated Exercise:\n",
            " {'type': 'fill-in-the-blank', 'instruction': 'Correct the sentence with the proper article usage', 'example': 'He watched __ movie. (Hint: article usage)', 'context': 'anime'}\n"
          ]
        }
      ]
    },
    {
      "cell_type": "code",
      "source": [],
      "metadata": {
        "id": "XvNpNF_Ih_TE"
      },
      "execution_count": 36,
      "outputs": []
    }
  ]
}